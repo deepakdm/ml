{
 "cells": [
  {
   "cell_type": "code",
   "execution_count": 1,
   "metadata": {},
   "outputs": [],
   "source": [
    "import numpy as np\n",
    "import matplotlib.pyplot as plt\n",
    "import pandas as pd"
   ]
  },
  {
   "cell_type": "code",
   "execution_count": 2,
   "metadata": {},
   "outputs": [],
   "source": [
    "# Read the file\n",
    "dataset = pd.read_csv('Social_Network_Ads.csv')\n",
    "\n",
    "# ignore user id, Gender just for now\n",
    "X = dataset.iloc[:,[2,3]].values \n",
    "y = dataset.iloc[:,4]"
   ]
  },
  {
   "cell_type": "code",
   "execution_count": 3,
   "metadata": {},
   "outputs": [
    {
     "name": "stderr",
     "output_type": "stream",
     "text": [
      "C:\\Users\\Deepak\\Anaconda3\\lib\\site-packages\\sklearn\\utils\\validation.py:475: DataConversionWarning: Data with input dtype int64 was converted to float64 by StandardScaler.\n",
      "  warnings.warn(msg, DataConversionWarning)\n"
     ]
    }
   ],
   "source": [
    "# Splitting data set into Training set & Test set\n",
    "from sklearn.model_selection import train_test_split\n",
    "X_train, X_test, y_train, y_test = train_test_split(X, y, test_size=1/4, random_state=10)\n",
    "\n",
    "# Feature scaling\n",
    "from sklearn.preprocessing import  StandardScaler\n",
    "sc = StandardScaler()\n",
    "X_train = sc.fit_transform(X_train)\n",
    "X_test  = sc.fit_transform(X_test)"
   ]
  },
  {
   "cell_type": "code",
   "execution_count": 4,
   "metadata": {},
   "outputs": [
    {
     "name": "stdout",
     "output_type": "stream",
     "text": [
      "             precision    recall  f1-score   support\n",
      "\n",
      "          0       0.92      0.87      0.90        69\n",
      "          1       0.74      0.84      0.79        31\n",
      "\n",
      "avg / total       0.87      0.86      0.86       100\n",
      "\n"
     ]
    }
   ],
   "source": [
    "# Fitting  DecisionTree\n",
    "from sklearn.tree import DecisionTreeClassifier\n",
    "classifier = DecisionTreeClassifier(criterion='entropy', random_state=0)\n",
    "classifier.fit(X_train, y_train)\n",
    "y_pred = classifier.predict(X_test)\n",
    "\n",
    "from sklearn.metrics import confusion_matrix, accuracy_score\n",
    "cm = confusion_matrix(y_test, y_pred)\n",
    "acc_score = accuracy_score(y_test, y_pred)\n",
    "\n",
    "from sklearn.metrics import classification_report\n",
    "print(classification_report(y_test, y_pred))"
   ]
  },
  {
   "cell_type": "code",
   "execution_count": 5,
   "metadata": {},
   "outputs": [
    {
     "data": {
      "image/png": "[encoded data removed]",
      "text/plain": [
       "<Figure size 432x288 with 1 Axes>"
      ]
     },
     "metadata": {},
     "output_type": "display_data"
    }
   ],
   "source": [
    "# Visualising the Test set results\n",
    "from matplotlib.colors import ListedColormap\n",
    "X_set, y_set = X_test, y_test\n",
    "\n",
    "X1, X2 = np.meshgrid(np.arange(start = X_set[:, 0].min() - 1, stop = X_set[:, 0].max() + 1, step = 0.01),\n",
    "                     np.arange(start = X_set[:, 1].min() - 1, stop = X_set[:, 1].max() + 1, step = 0.01))\n",
    "\n",
    "plt.contourf(X1, X2, classifier.predict(np.array([X1.ravel(), X2.ravel()]).T).reshape(X1.shape),\n",
    "             alpha = 0.75, cmap = ListedColormap(('red', 'green')))\n",
    "\n",
    "plt.xlim(X1.min(), X1.max())\n",
    "plt.ylim(X2.min(), X2.max())\n",
    "\n",
    "for i, j in enumerate(np.unique(y_set)):\n",
    "    plt.scatter(X_set[y_set == j, 0], X_set[y_set == j, 1],\n",
    "                c = ListedColormap(('red', 'green'))(i), label = j)\n",
    "plt.title('Decision Tree (Test set)')\n",
    "plt.xlabel('Age')\n",
    "plt.ylabel('Estimated Salary')\n",
    "plt.legend()\n",
    "plt.show()"
   ]
  },
  {
   "cell_type": "code",
   "execution_count": 6,
   "metadata": {},
   "outputs": [
    {
     "name": "stdout",
     "output_type": "stream",
     "text": [
      "Accuracy per fold:  [0.9944444444444445, 0.9972222222222222, 0.9972222222222222, 0.9944444444444445, 0.9972222222222222, 0.9972222222222222, 0.9944444444444445, 0.9944444444444445, 0.9944444444444445, 0.9944444444444445] \n",
      "\n",
      "Avg. accuracy:  0.9955555555555555\n"
     ]
    },
    {
     "name": "stderr",
     "output_type": "stream",
     "text": [
      "C:\\Users\\Deepak\\Anaconda3\\lib\\site-packages\\sklearn\\cross_validation.py:41: DeprecationWarning: This module was deprecated in version 0.18 in favor of the model_selection module into which all the refactored classes and functions are moved. Also note that the interface of the new CV iterators are different from that of this module. This module will be removed in 0.20.\n",
      "  \"This module will be removed in 0.20.\", DeprecationWarning)\n"
     ]
    }
   ],
   "source": [
    "from sklearn.cross_validation import KFold\n",
    "cv = KFold(n=len(X), n_folds = 10, random_state=0)\n",
    "\n",
    "X_fold = dataset.iloc[:,[2,3]] \n",
    "y_fold = dataset.iloc[:,4]\n",
    "\n",
    "fold_accuracy = []\n",
    "\n",
    "for train_fold, valid_fold in cv:\n",
    "    train = X_fold.loc[train_fold]\n",
    "    valid = X_fold.loc[valid_fold]\n",
    "    \n",
    "    train_y = y_fold.loc[train_fold]\n",
    "    valid_y = y_fold.loc[valid_fold]\n",
    "    \n",
    "    model = classifier.fit(X = train, y = train_y)\n",
    "    valid_acc = model.score(X = train, y = train_y)\n",
    "    fold_accuracy.append(valid_acc)\n",
    "    \n",
    "print(\"Accuracy per fold: \", fold_accuracy, \"\\n\")\n",
    "print(\"Avg. accuracy: \", sum(fold_accuracy)/len(fold_accuracy))"
   ]
  },
  {
   "cell_type": "code",
   "execution_count": 7,
   "metadata": {},
   "outputs": [
    {
     "name": "stdout",
     "output_type": "stream",
     "text": [
      "Accuracy: \n",
      "[0.82142857 0.82142857 0.92592593 0.85185185 0.92592593 0.81481481\n",
      " 0.96296296 0.81481481 0.76923077 0.88461538 0.65384615 0.84615385\n",
      " 0.73076923 0.88461538 0.80769231]\n",
      "Avg. Accuracy:  0.8344051010717677\n",
      "\n",
      "Logistic regression vs Decision Tree\n",
      "0.645075295075295\n"
     ]
    }
   ],
   "source": [
    "# First stratified K Fold\n",
    "from sklearn.cross_validation import cross_val_score\n",
    "score = cross_val_score(estimator = classifier, X=X, y=y, scoring=\"accuracy\", cv=15)\n",
    "print(\"Accuracy: \")\n",
    "print(score)\n",
    "print(\"Avg. Accuracy: \", score.mean())\n",
    "\n",
    "# Logistic regression vs Decision Tree\n",
    "from sklearn.linear_model import LogisticRegression\n",
    "log = LogisticRegression()\n",
    "cl = cross_val_score(estimator=log, X=X, y=y, scoring=\"accuracy\", cv=15)\n",
    "print(\"\\nLogistic regression vs Decision Tree\")\n",
    "print(cl.mean())"
   ]
  }
 ],
 "metadata": {
  "kernelspec": {
   "display_name": "Python 3",
   "language": "python",
   "name": "python3"
  },
  "language_info": {
   "codemirror_mode": {
    "name": "ipython",
    "version": 3
   },
   "file_extension": ".py",
   "mimetype": "text/x-python",
   "name": "python",
   "nbconvert_exporter": "python",
   "pygments_lexer": "ipython3",
   "version": "3.6.6"
  }
 },
 "nbformat": 4,
 "nbformat_minor": 2
}
